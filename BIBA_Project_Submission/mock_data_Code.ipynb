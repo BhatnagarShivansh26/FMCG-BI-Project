{
 "cells": [
  {
   "cell_type": "code",
   "execution_count": 3,
   "metadata": {},
   "outputs": [],
   "source": [
    "from faker import Faker\n",
    "import pandas as pd\n",
    "import random\n",
    "import numpy as np"
   ]
  },
  {
   "cell_type": "code",
   "execution_count": 4,
   "metadata": {},
   "outputs": [],
   "source": [
    "fake = Faker(\"en_IN\")\n",
    "Faker.seed(42)\n",
    "random.seed(42)\n",
    "np.random.seed(42)"
   ]
  },
  {
   "cell_type": "code",
   "execution_count": 5,
   "metadata": {},
   "outputs": [],
   "source": [
    "# Parameters\n",
    "NUM_CUSTOMERS = 100\n",
    "NUM_PRODUCTS = 50\n",
    "NUM_ORDERS = 700\n",
    "NUM_FEEDBACK = 350"
   ]
  },
  {
   "cell_type": "code",
   "execution_count": 6,
   "metadata": {},
   "outputs": [],
   "source": [
    "customers = []\n",
    "for i in range(1, NUM_CUSTOMERS + 1):\n",
    "    customers.append({\n",
    "        \"customer_id\": i,\n",
    "        \"customer_name\": fake.name(),  \n",
    "        \"customer_type\": random.choice([\"Retailer\", \"Wholesaler\", \"Key Account\"]),\n",
    "        \"region\": fake.state()  \n",
    "    })"
   ]
  },
  {
   "cell_type": "code",
   "execution_count": 7,
   "metadata": {},
   "outputs": [
    {
     "name": "stdout",
     "output_type": "stream",
     "text": [
      "   customer_id  customer_name customer_type          region\n",
      "0            1  Aryan Maharaj   Key Account         Haryana\n",
      "1            2   Liam Chaudry      Retailer          Sikkim\n",
      "2            3    Pahal Balay      Retailer  Andhra Pradesh\n",
      "3            4     Tejas Kaul   Key Account         Mizoram\n",
      "4            5   Rushil Saini    Wholesaler         Haryana\n"
     ]
    }
   ],
   "source": [
    "customers_df = pd.DataFrame(customers)\n",
    "print(customers_df.head())"
   ]
  },
  {
   "cell_type": "code",
   "execution_count": 16,
   "metadata": {},
   "outputs": [],
   "source": [
    "customers_df.to_csv(\"customers.csv\", index=False)"
   ]
  },
  {
   "cell_type": "code",
   "execution_count": 6,
   "metadata": {},
   "outputs": [],
   "source": [
    "# -------------------- Generate Products --------------------\n",
    "products = []\n",
    "for i in range(1, NUM_PRODUCTS + 1):\n",
    "    products.append({\n",
    "        \"product_id\": i,\n",
    "        \"product_name\": fake.word().capitalize() + \" Product\",\n",
    "        \"product_weight_kg\": round(random.uniform(1.0, 50.0), 2)\n",
    "    })\n",
    "products_df = pd.DataFrame(products)"
   ]
  },
  {
   "cell_type": "code",
   "execution_count": 7,
   "metadata": {},
   "outputs": [
    {
     "data": {
      "text/html": [
       "<div>\n",
       "<style scoped>\n",
       "    .dataframe tbody tr th:only-of-type {\n",
       "        vertical-align: middle;\n",
       "    }\n",
       "\n",
       "    .dataframe tbody tr th {\n",
       "        vertical-align: top;\n",
       "    }\n",
       "\n",
       "    .dataframe thead th {\n",
       "        text-align: right;\n",
       "    }\n",
       "</style>\n",
       "<table border=\"1\" class=\"dataframe\">\n",
       "  <thead>\n",
       "    <tr style=\"text-align: right;\">\n",
       "      <th></th>\n",
       "      <th>product_id</th>\n",
       "      <th>product_name</th>\n",
       "      <th>product_weight_kg</th>\n",
       "    </tr>\n",
       "  </thead>\n",
       "  <tbody>\n",
       "    <tr>\n",
       "      <th>0</th>\n",
       "      <td>1</td>\n",
       "      <td>Boy Product</td>\n",
       "      <td>49.49</td>\n",
       "    </tr>\n",
       "    <tr>\n",
       "      <th>1</th>\n",
       "      <td>2</td>\n",
       "      <td>Pick Product</td>\n",
       "      <td>32.36</td>\n",
       "    </tr>\n",
       "    <tr>\n",
       "      <th>2</th>\n",
       "      <td>3</td>\n",
       "      <td>Leader Product</td>\n",
       "      <td>28.29</td>\n",
       "    </tr>\n",
       "    <tr>\n",
       "      <th>3</th>\n",
       "      <td>4</td>\n",
       "      <td>Hair Product</td>\n",
       "      <td>34.55</td>\n",
       "    </tr>\n",
       "    <tr>\n",
       "      <th>4</th>\n",
       "      <td>5</td>\n",
       "      <td>Shoulder Product</td>\n",
       "      <td>42.30</td>\n",
       "    </tr>\n",
       "  </tbody>\n",
       "</table>\n",
       "</div>"
      ],
      "text/plain": [
       "   product_id      product_name  product_weight_kg\n",
       "0           1       Boy Product              49.49\n",
       "1           2      Pick Product              32.36\n",
       "2           3    Leader Product              28.29\n",
       "3           4      Hair Product              34.55\n",
       "4           5  Shoulder Product              42.30"
      ]
     },
     "execution_count": 7,
     "metadata": {},
     "output_type": "execute_result"
    }
   ],
   "source": [
    "products_df.head()"
   ]
  },
  {
   "cell_type": "code",
   "execution_count": 17,
   "metadata": {},
   "outputs": [],
   "source": [
    "products_df.to_csv(\"products.csv\", index=False)"
   ]
  },
  {
   "cell_type": "code",
   "execution_count": 8,
   "metadata": {},
   "outputs": [],
   "source": [
    "# -------------------- Generate Orders --------------------\n",
    "orders = []\n",
    "for i in range(1, NUM_ORDERS + 1):\n",
    "    orders.append({\n",
    "        \"order_id\": i,\n",
    "        \"customer_id\": random.randint(1, NUM_CUSTOMERS),\n",
    "        \"order_date\": fake.date_between(start_date='-1y', end_date='today'),\n",
    "        \"total_quantity\": random.randint(1, 100)\n",
    "    })\n",
    "orders_df = pd.DataFrame(orders)"
   ]
  },
  {
   "cell_type": "code",
   "execution_count": 9,
   "metadata": {},
   "outputs": [
    {
     "data": {
      "text/html": [
       "<div>\n",
       "<style scoped>\n",
       "    .dataframe tbody tr th:only-of-type {\n",
       "        vertical-align: middle;\n",
       "    }\n",
       "\n",
       "    .dataframe tbody tr th {\n",
       "        vertical-align: top;\n",
       "    }\n",
       "\n",
       "    .dataframe thead th {\n",
       "        text-align: right;\n",
       "    }\n",
       "</style>\n",
       "<table border=\"1\" class=\"dataframe\">\n",
       "  <thead>\n",
       "    <tr style=\"text-align: right;\">\n",
       "      <th></th>\n",
       "      <th>order_id</th>\n",
       "      <th>customer_id</th>\n",
       "      <th>order_date</th>\n",
       "      <th>total_quantity</th>\n",
       "    </tr>\n",
       "  </thead>\n",
       "  <tbody>\n",
       "    <tr>\n",
       "      <th>0</th>\n",
       "      <td>1</td>\n",
       "      <td>93</td>\n",
       "      <td>2024-08-29</td>\n",
       "      <td>34</td>\n",
       "    </tr>\n",
       "    <tr>\n",
       "      <th>1</th>\n",
       "      <td>2</td>\n",
       "      <td>65</td>\n",
       "      <td>2024-12-21</td>\n",
       "      <td>98</td>\n",
       "    </tr>\n",
       "    <tr>\n",
       "      <th>2</th>\n",
       "      <td>3</td>\n",
       "      <td>23</td>\n",
       "      <td>2024-07-18</td>\n",
       "      <td>65</td>\n",
       "    </tr>\n",
       "    <tr>\n",
       "      <th>3</th>\n",
       "      <td>4</td>\n",
       "      <td>14</td>\n",
       "      <td>2024-10-27</td>\n",
       "      <td>81</td>\n",
       "    </tr>\n",
       "    <tr>\n",
       "      <th>4</th>\n",
       "      <td>5</td>\n",
       "      <td>39</td>\n",
       "      <td>2024-05-14</td>\n",
       "      <td>82</td>\n",
       "    </tr>\n",
       "  </tbody>\n",
       "</table>\n",
       "</div>"
      ],
      "text/plain": [
       "   order_id  customer_id  order_date  total_quantity\n",
       "0         1           93  2024-08-29              34\n",
       "1         2           65  2024-12-21              98\n",
       "2         3           23  2024-07-18              65\n",
       "3         4           14  2024-10-27              81\n",
       "4         5           39  2024-05-14              82"
      ]
     },
     "execution_count": 9,
     "metadata": {},
     "output_type": "execute_result"
    }
   ],
   "source": [
    "orders_df.head()"
   ]
  },
  {
   "cell_type": "code",
   "execution_count": 18,
   "metadata": {},
   "outputs": [],
   "source": [
    "orders_df.to_csv(\"orders.csv\", index=False)"
   ]
  },
  {
   "cell_type": "code",
   "execution_count": 10,
   "metadata": {},
   "outputs": [],
   "source": [
    "# -------------------- Generate Order_Product --------------------\n",
    "order_product = []\n",
    "for i in range(1, NUM_ORDERS + 1):\n",
    "    num_items = random.randint(1, 4)\n",
    "    selected_products = random.sample(range(1, NUM_PRODUCTS + 1), num_items)\n",
    "    for pid in selected_products:\n",
    "        order_product.append({\n",
    "            \"order_id\": i,\n",
    "            \"product_id\": pid,\n",
    "            \"quantity_ordered\": random.randint(1, 10)\n",
    "        })\n",
    "order_product_df = pd.DataFrame(order_product)"
   ]
  },
  {
   "cell_type": "code",
   "execution_count": 11,
   "metadata": {},
   "outputs": [
    {
     "data": {
      "text/html": [
       "<div>\n",
       "<style scoped>\n",
       "    .dataframe tbody tr th:only-of-type {\n",
       "        vertical-align: middle;\n",
       "    }\n",
       "\n",
       "    .dataframe tbody tr th {\n",
       "        vertical-align: top;\n",
       "    }\n",
       "\n",
       "    .dataframe thead th {\n",
       "        text-align: right;\n",
       "    }\n",
       "</style>\n",
       "<table border=\"1\" class=\"dataframe\">\n",
       "  <thead>\n",
       "    <tr style=\"text-align: right;\">\n",
       "      <th></th>\n",
       "      <th>order_id</th>\n",
       "      <th>product_id</th>\n",
       "      <th>quantity_ordered</th>\n",
       "    </tr>\n",
       "  </thead>\n",
       "  <tbody>\n",
       "    <tr>\n",
       "      <th>0</th>\n",
       "      <td>1</td>\n",
       "      <td>37</td>\n",
       "      <td>2</td>\n",
       "    </tr>\n",
       "    <tr>\n",
       "      <th>1</th>\n",
       "      <td>1</td>\n",
       "      <td>14</td>\n",
       "      <td>9</td>\n",
       "    </tr>\n",
       "    <tr>\n",
       "      <th>2</th>\n",
       "      <td>2</td>\n",
       "      <td>38</td>\n",
       "      <td>4</td>\n",
       "    </tr>\n",
       "    <tr>\n",
       "      <th>3</th>\n",
       "      <td>2</td>\n",
       "      <td>14</td>\n",
       "      <td>6</td>\n",
       "    </tr>\n",
       "    <tr>\n",
       "      <th>4</th>\n",
       "      <td>3</td>\n",
       "      <td>39</td>\n",
       "      <td>5</td>\n",
       "    </tr>\n",
       "  </tbody>\n",
       "</table>\n",
       "</div>"
      ],
      "text/plain": [
       "   order_id  product_id  quantity_ordered\n",
       "0         1          37                 2\n",
       "1         1          14                 9\n",
       "2         2          38                 4\n",
       "3         2          14                 6\n",
       "4         3          39                 5"
      ]
     },
     "execution_count": 11,
     "metadata": {},
     "output_type": "execute_result"
    }
   ],
   "source": [
    "order_product_df.head()"
   ]
  },
  {
   "cell_type": "code",
   "execution_count": 19,
   "metadata": {},
   "outputs": [],
   "source": [
    "order_product_df.to_csv(\"order_product.csv\", index=False)"
   ]
  },
  {
   "cell_type": "code",
   "execution_count": 12,
   "metadata": {},
   "outputs": [],
   "source": [
    "# -------------------- Generate Deliveries --------------------\n",
    "deliveries = []\n",
    "for order in orders:\n",
    "    delivery_date = fake.date_between(start_date=order[\"order_date\"], end_date='+10d')\n",
    "    deliveries.append({\n",
    "        \"delivery_id\": order[\"order_id\"],\n",
    "        \"order_id\": order[\"order_id\"],\n",
    "        \"delivery_date\": delivery_date,\n",
    "        \"delivery_status\": random.choice([\"On Time\", \"Delayed\"]),\n",
    "        \"is_full_delivery\": random.choice([True, False]),\n",
    "        \"warehouse_id\": f\"WH_{random.randint(1, 10):03d}\",\n",
    "        \"distance_from_hub_km\": round(random.uniform(50, 300), 2),\n",
    "        \"flood_affected\": random.choice([True, False])\n",
    "    })\n",
    "deliveries_df = pd.DataFrame(deliveries)"
   ]
  },
  {
   "cell_type": "code",
   "execution_count": 13,
   "metadata": {},
   "outputs": [
    {
     "data": {
      "text/html": [
       "<div>\n",
       "<style scoped>\n",
       "    .dataframe tbody tr th:only-of-type {\n",
       "        vertical-align: middle;\n",
       "    }\n",
       "\n",
       "    .dataframe tbody tr th {\n",
       "        vertical-align: top;\n",
       "    }\n",
       "\n",
       "    .dataframe thead th {\n",
       "        text-align: right;\n",
       "    }\n",
       "</style>\n",
       "<table border=\"1\" class=\"dataframe\">\n",
       "  <thead>\n",
       "    <tr style=\"text-align: right;\">\n",
       "      <th></th>\n",
       "      <th>delivery_id</th>\n",
       "      <th>order_id</th>\n",
       "      <th>delivery_date</th>\n",
       "      <th>delivery_status</th>\n",
       "      <th>is_full_delivery</th>\n",
       "      <th>warehouse_id</th>\n",
       "      <th>distance_from_hub_km</th>\n",
       "      <th>flood_affected</th>\n",
       "    </tr>\n",
       "  </thead>\n",
       "  <tbody>\n",
       "    <tr>\n",
       "      <th>0</th>\n",
       "      <td>1</td>\n",
       "      <td>1</td>\n",
       "      <td>2025-03-27</td>\n",
       "      <td>Delayed</td>\n",
       "      <td>True</td>\n",
       "      <td>WH_002</td>\n",
       "      <td>90.50</td>\n",
       "      <td>True</td>\n",
       "    </tr>\n",
       "    <tr>\n",
       "      <th>1</th>\n",
       "      <td>2</td>\n",
       "      <td>2</td>\n",
       "      <td>2025-03-20</td>\n",
       "      <td>Delayed</td>\n",
       "      <td>False</td>\n",
       "      <td>WH_005</td>\n",
       "      <td>227.61</td>\n",
       "      <td>False</td>\n",
       "    </tr>\n",
       "    <tr>\n",
       "      <th>2</th>\n",
       "      <td>3</td>\n",
       "      <td>3</td>\n",
       "      <td>2024-12-25</td>\n",
       "      <td>Delayed</td>\n",
       "      <td>False</td>\n",
       "      <td>WH_006</td>\n",
       "      <td>236.97</td>\n",
       "      <td>False</td>\n",
       "    </tr>\n",
       "    <tr>\n",
       "      <th>3</th>\n",
       "      <td>4</td>\n",
       "      <td>4</td>\n",
       "      <td>2024-11-06</td>\n",
       "      <td>Delayed</td>\n",
       "      <td>True</td>\n",
       "      <td>WH_003</td>\n",
       "      <td>263.55</td>\n",
       "      <td>True</td>\n",
       "    </tr>\n",
       "    <tr>\n",
       "      <th>4</th>\n",
       "      <td>5</td>\n",
       "      <td>5</td>\n",
       "      <td>2024-07-25</td>\n",
       "      <td>On Time</td>\n",
       "      <td>False</td>\n",
       "      <td>WH_002</td>\n",
       "      <td>102.64</td>\n",
       "      <td>False</td>\n",
       "    </tr>\n",
       "  </tbody>\n",
       "</table>\n",
       "</div>"
      ],
      "text/plain": [
       "   delivery_id  order_id delivery_date delivery_status  is_full_delivery  \\\n",
       "0            1         1    2025-03-27         Delayed              True   \n",
       "1            2         2    2025-03-20         Delayed             False   \n",
       "2            3         3    2024-12-25         Delayed             False   \n",
       "3            4         4    2024-11-06         Delayed              True   \n",
       "4            5         5    2024-07-25         On Time             False   \n",
       "\n",
       "  warehouse_id  distance_from_hub_km  flood_affected  \n",
       "0       WH_002                 90.50            True  \n",
       "1       WH_005                227.61           False  \n",
       "2       WH_006                236.97           False  \n",
       "3       WH_003                263.55            True  \n",
       "4       WH_002                102.64           False  "
      ]
     },
     "execution_count": 13,
     "metadata": {},
     "output_type": "execute_result"
    }
   ],
   "source": [
    "deliveries_df.head()"
   ]
  },
  {
   "cell_type": "code",
   "execution_count": 20,
   "metadata": {},
   "outputs": [],
   "source": [
    "deliveries_df.to_csv(\"deliveries.csv\", index=False)"
   ]
  },
  {
   "cell_type": "code",
   "execution_count": 14,
   "metadata": {},
   "outputs": [],
   "source": [
    "# -------------------- Generate Feedback --------------------\n",
    "feedbacks = []\n",
    "feedback_order_ids = random.sample(range(1, NUM_ORDERS + 1), NUM_FEEDBACK)\n",
    "for i in range(1, NUM_FEEDBACK + 1):\n",
    "    order_id = feedback_order_ids[i-1]\n",
    "    feedbacks.append({\n",
    "        \"feedback_id\": i,\n",
    "        \"customer_id\": orders_df.loc[orders_df['order_id'] == order_id, 'customer_id'].values[0],\n",
    "        \"order_id\": order_id,\n",
    "        \"feedback_date\": fake.date_between(start_date=orders_df.loc[orders_df['order_id'] == order_id, 'order_date'].values[0], end_date='today'),\n",
    "        \"satisfaction_score\": random.randint(1, 5),\n",
    "        \"complaint_type\": random.choice([\"Late Delivery\", \"Incomplete Order\", \"Damaged Goods\", \"None\"]),\n",
    "        \"renewal_status\": random.choice([\"Renewed\", \"Not Renewed\"])\n",
    "    })\n",
    "feedback_df = pd.DataFrame(feedbacks)"
   ]
  },
  {
   "cell_type": "code",
   "execution_count": 15,
   "metadata": {},
   "outputs": [
    {
     "data": {
      "text/html": [
       "<div>\n",
       "<style scoped>\n",
       "    .dataframe tbody tr th:only-of-type {\n",
       "        vertical-align: middle;\n",
       "    }\n",
       "\n",
       "    .dataframe tbody tr th {\n",
       "        vertical-align: top;\n",
       "    }\n",
       "\n",
       "    .dataframe thead th {\n",
       "        text-align: right;\n",
       "    }\n",
       "</style>\n",
       "<table border=\"1\" class=\"dataframe\">\n",
       "  <thead>\n",
       "    <tr style=\"text-align: right;\">\n",
       "      <th></th>\n",
       "      <th>feedback_id</th>\n",
       "      <th>customer_id</th>\n",
       "      <th>order_id</th>\n",
       "      <th>feedback_date</th>\n",
       "      <th>satisfaction_score</th>\n",
       "      <th>complaint_type</th>\n",
       "      <th>renewal_status</th>\n",
       "    </tr>\n",
       "  </thead>\n",
       "  <tbody>\n",
       "    <tr>\n",
       "      <th>0</th>\n",
       "      <td>1</td>\n",
       "      <td>53</td>\n",
       "      <td>163</td>\n",
       "      <td>2025-03-15</td>\n",
       "      <td>1</td>\n",
       "      <td>Damaged Goods</td>\n",
       "      <td>Renewed</td>\n",
       "    </tr>\n",
       "    <tr>\n",
       "      <th>1</th>\n",
       "      <td>2</td>\n",
       "      <td>36</td>\n",
       "      <td>619</td>\n",
       "      <td>2024-11-10</td>\n",
       "      <td>4</td>\n",
       "      <td>Incomplete Order</td>\n",
       "      <td>Renewed</td>\n",
       "    </tr>\n",
       "    <tr>\n",
       "      <th>2</th>\n",
       "      <td>3</td>\n",
       "      <td>46</td>\n",
       "      <td>589</td>\n",
       "      <td>2024-11-24</td>\n",
       "      <td>2</td>\n",
       "      <td>Late Delivery</td>\n",
       "      <td>Renewed</td>\n",
       "    </tr>\n",
       "    <tr>\n",
       "      <th>3</th>\n",
       "      <td>4</td>\n",
       "      <td>84</td>\n",
       "      <td>318</td>\n",
       "      <td>2025-01-09</td>\n",
       "      <td>5</td>\n",
       "      <td>Damaged Goods</td>\n",
       "      <td>Not Renewed</td>\n",
       "    </tr>\n",
       "    <tr>\n",
       "      <th>4</th>\n",
       "      <td>5</td>\n",
       "      <td>33</td>\n",
       "      <td>602</td>\n",
       "      <td>2025-03-23</td>\n",
       "      <td>4</td>\n",
       "      <td>None</td>\n",
       "      <td>Not Renewed</td>\n",
       "    </tr>\n",
       "  </tbody>\n",
       "</table>\n",
       "</div>"
      ],
      "text/plain": [
       "   feedback_id  customer_id  order_id feedback_date  satisfaction_score  \\\n",
       "0            1           53       163    2025-03-15                   1   \n",
       "1            2           36       619    2024-11-10                   4   \n",
       "2            3           46       589    2024-11-24                   2   \n",
       "3            4           84       318    2025-01-09                   5   \n",
       "4            5           33       602    2025-03-23                   4   \n",
       "\n",
       "     complaint_type renewal_status  \n",
       "0     Damaged Goods        Renewed  \n",
       "1  Incomplete Order        Renewed  \n",
       "2     Late Delivery        Renewed  \n",
       "3     Damaged Goods    Not Renewed  \n",
       "4              None    Not Renewed  "
      ]
     },
     "execution_count": 15,
     "metadata": {},
     "output_type": "execute_result"
    }
   ],
   "source": [
    "feedback_df.head()"
   ]
  },
  {
   "cell_type": "code",
   "execution_count": 21,
   "metadata": {},
   "outputs": [],
   "source": [
    "feedback_df.to_csv(\"feedback.csv\", index=False)"
   ]
  }
 ],
 "metadata": {
  "kernelspec": {
   "display_name": "Python 3",
   "language": "python",
   "name": "python3"
  },
  "language_info": {
   "codemirror_mode": {
    "name": "ipython",
    "version": 3
   },
   "file_extension": ".py",
   "mimetype": "text/x-python",
   "name": "python",
   "nbconvert_exporter": "python",
   "pygments_lexer": "ipython3",
   "version": "3.12.4"
  }
 },
 "nbformat": 4,
 "nbformat_minor": 2
}
